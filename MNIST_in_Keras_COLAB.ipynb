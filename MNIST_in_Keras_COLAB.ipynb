{
  "cells": [
    {
      "cell_type": "markdown",
      "source": [
        "[![Open In Colab](https://colab.research.google.com/assets/colab-badge.svg)](https://colab.research.google.com/github/JoelCMThan/AI_CV/blob/main/MNIST_in_Keras_COLAB.ipynb)"
      ],
      "metadata": {
        "id": "5qqv4kbF4-W3"
      }
    },
    {
      "cell_type": "code",
      "execution_count": 1,
      "metadata": {
        "collapsed": true,
        "id": "wodc-Pdnwm3Z"
      },
      "outputs": [],
      "source": [
        "%matplotlib inline"
      ]
    },
    {
      "cell_type": "markdown",
      "metadata": {
        "id": "5Q8kxA95wm3b"
      },
      "source": [
        "# Introduction to Deep Learning with Keras and TensorFlow\n",
        "\n",
        "**Daniel Moser (UT Southwestern Medical Center)**\n",
        "\n",
        "**Resources: [Xavier Snelgrove](https://github.com/wxs/keras-mnist-tutorial), [Yash Katariya](https://github.com/yashk2810/MNIST-Keras)**\n",
        "\n",
        "Updated by: Joel Than for Colab and Visualisation"
      ]
    },
    {
      "cell_type": "markdown",
      "metadata": {
        "id": "57_pVOmOwm3c"
      },
      "source": [
        "To help you understand the fundamentals of deep learning, this demo will walk through the basic steps of building two toy models for classifying handwritten numbers with accuracies surpassing 95%. The first model will be a basic fully-connected neural network, and the second model will be a deeper network that introduces the concepts of convolution and pooling."
      ]
    },
    {
      "cell_type": "markdown",
      "metadata": {
        "id": "G_JNKTUdwm3d"
      },
      "source": [
        "## The Task for the AI\n",
        "\n",
        "Our goal is to construct and train an artificial neural network on thousands of images of handwritten digits so that it may successfully identify others when presented. The data that will be incorporated is the MNIST database which contains 60,000 images for training and 10,000 test images. We will use the Keras Python API with TensorFlow as the backend."
      ]
    },
    {
      "cell_type": "markdown",
      "metadata": {
        "id": "MgYEmIQMwm3d"
      },
      "source": [
        "<img src=\"https://github.com/AviatorMoser/keras-mnist-tutorial/blob/master/mnist.png?raw=1\" >"
      ]
    },
    {
      "cell_type": "markdown",
      "metadata": {
        "id": "QlypPZsCwm3d"
      },
      "source": [
        "## Prerequisite Python Modules\n",
        "\n",
        "First, some software needs to be loaded into the Python environment."
      ]
    },
    {
      "cell_type": "code",
      "execution_count": 2,
      "metadata": {
        "id": "Ug3dXZ5Xwm3e"
      },
      "outputs": [],
      "source": [
        "import numpy as np                   # advanced math library\n",
        "import matplotlib.pyplot as plt      # MATLAB like plotting routines\n",
        "import random                        # for generating random numbers\n",
        "\n",
        "from keras.datasets import mnist     # MNIST dataset is included in Keras\n",
        "from keras.models import Sequential  # Model type to be used\n",
        "\n",
        "from keras.layers.core import Dense, Dropout, Activation # Types of layers to be used in our model\n",
        "from keras.utils import np_utils                         # NumPy related tools"
      ]
    },
    {
      "cell_type": "markdown",
      "metadata": {
        "id": "MoCHvo5Xwm3e"
      },
      "source": [
        "## Loading Training Data\n",
        "\n",
        "The MNIST dataset is conveniently bundled within Keras, and we can easily analyze some of its features in Python."
      ]
    },
    {
      "cell_type": "code",
      "execution_count": 3,
      "metadata": {
        "colab": {
          "base_uri": "https://localhost:8080/"
        },
        "id": "sJOyb4e9wm3f",
        "outputId": "1db95fc7-9703-488e-c705-645575eee3af"
      },
      "outputs": [
        {
          "output_type": "stream",
          "name": "stdout",
          "text": [
            "Downloading data from https://storage.googleapis.com/tensorflow/tf-keras-datasets/mnist.npz\n",
            "11493376/11490434 [==============================] - 0s 0us/step\n",
            "11501568/11490434 [==============================] - 0s 0us/step\n",
            "X_train shape (60000, 28, 28)\n",
            "y_train shape (60000,)\n",
            "X_test shape (10000, 28, 28)\n",
            "y_test shape (10000,)\n"
          ]
        }
      ],
      "source": [
        "# The MNIST data is split between 60,000 28 x 28 pixel training images and 10,000 28 x 28 pixel images\n",
        "(X_train, y_train), (X_test, y_test) = mnist.load_data()\n",
        "\n",
        "print(\"X_train shape\", X_train.shape)\n",
        "print(\"y_train shape\", y_train.shape)\n",
        "print(\"X_test shape\", X_test.shape)\n",
        "print(\"y_test shape\", y_test.shape)"
      ]
    },
    {
      "cell_type": "markdown",
      "metadata": {
        "id": "CLiaeBDFwm3g"
      },
      "source": [
        "Using matplotlib, we can plot some sample images from the training set directly into this Jupyter Notebook."
      ]
    },
    {
      "cell_type": "code",
      "execution_count": 4,
      "metadata": {
        "colab": {
          "base_uri": "https://localhost:8080/",
          "height": 657
        },
        "id": "psQDt-5ywm3g",
        "outputId": "debd50c8-f8aa-427e-a52b-3cd57716d33e"
      },
      "outputs": [
        {
          "output_type": "display_data",
          "data": {
            "text/plain": [
              "<Figure size 648x648 with 9 Axes>"
            ],
            "image/png": "[encoded data removed]"
          },
          "metadata": {
            "needs_background": "light"
          }
        }
      ],
      "source": [
        "plt.rcParams['figure.figsize'] = (9,9) # Make the figures a bit bigger\n",
        "\n",
        "for i in range(9):\n",
        "    plt.subplot(3,3,i+1)\n",
        "    num = random.randint(0, len(X_train))\n",
        "    plt.imshow(X_train[num], cmap='gray', interpolation='none')\n",
        "    plt.title(\"Class {}\".format(y_train[num]))\n",
        "    \n",
        "plt.tight_layout()"
      ]
    },
    {
      "cell_type": "markdown",
      "metadata": {
        "id": "1u0Q-M79wm3g"
      },
      "source": [
        "Let's examine a single digit a little closer, and print out the array representing the last digit."
      ]
    },
    {
      "cell_type": "code",
      "execution_count": 5,
      "metadata": {
        "colab": {
          "base_uri": "https://localhost:8080/"
        },
        "id": "grRhIqrAwm3h",
        "outputId": "f6f0f425-fee8-4237-b110-560c803333cb"
      },
      "outputs": [
        {
          "output_type": "stream",
          "name": "stdout",
          "text": [
            "0  0  0  0  0    0    0    0    0    0    0    0    0    0    0    0    0    0    0    0    0    0    0    0    0  0  0  0  \n",
            "0  0  0  0  0    0    0    0    0    0    0    0    0    0    0    0    0    0    0    0    0    0    0    0    0  0  0  0  \n",
            "0  0  0  0  0    0    0    0    0    0    0    0    0    0    0    0    0    0    0    0    0    0    0    0    0  0  0  0  \n",
            "0  0  0  0  0    0    0    0    0    0    0    0    0    0    0    0    0    0    0    0    0    0    0    0    0  0  0  0  \n",
            "0  0  0  0  0  131  254  254  181  130  130   49   68    7    7    5    0    0    0    0    0    0    0    0    0  0  0  0  \n",
            "0  0  0  0  0  130  253  253  253  253  253  253  253  253  253  222  136   37   13    8    0    0    0    0    0  0  0  0  \n",
            "0  0  0  0  0  130  253  253  253  253  253  253  253  253  253  253  253  253  253  213  143   31    2    0    0  0  0  0  \n",
            "0  0  0  0  0  130  253  253  253  238  228  228  228  228  228  235  253  253  253  253  253  253   79    0    0  0  0  0  \n",
            "0  0  0  0  0  130  253  253  241   51    0    0    0    0    0   27   99   99   99   99   99   99    7    0    0  0  0  0  \n",
            "0  0  0  0  0  130  253  253  253   99    0    0    0    0    0    0    0    0    0    0    0    0    0    0    0  0  0  0  \n",
            "0  0  0  0  0   49  253  253  253  201  167  167  167  167  167   74   10    0    0    0    0    0    0    0    0  0  0  0  \n",
            "0  0  0  0  0    2  173  253  253  253  253  253  253  253  253  253  154   34    0    0    0    0    0    0    0  0  0  0  \n",
            "0  0  0  0  0    0  110  253  253  253  253  253  253  253  253  253  253  230  137    8    0    0    0    0    0  0  0  0  \n",
            "0  0  0  0  0    0   10  226  253  253  253  212  191  191  191  238  253  253  253  150   38    0    0    0    0  0  0  0  \n",
            "0  0  0  0  0    0    0   35   61   61   61   21    0    0    0   80  205  253  253  253  229   52    0    0    0  0  0  0  \n",
            "0  0  0  0  0    0    0    0    0    0    0    0    0    0    0    0   17  155  241  253  253  230   51    0    0  0  0  0  \n",
            "0  0  0  0  0    0    0    0    0    0    0    0    0    0    0    0    0    0  111  253  253  253  232   10    0  0  0  0  \n",
            "0  0  0  0  0    0    0    0    0    0    0    0    0    0    0    0    0    0   15   89  243  253  253   54    0  0  0  0  \n",
            "0  0  0  0  0    0    0    0    0    0    0    0    0    0    0    0    0    0    0    0  223  253  253  236    5  0  0  0  \n",
            "0  0  0  0  0    0    0    8   41    0    0    0    0    0    0    0    0    0    0    0  162  253  253  253  115  0  0  0  \n",
            "0  0  0  0  0    0    6  177  239  230  230  230  230  202  106  106   75   52   89  151  250  253  253  253  129  0  0  0  \n",
            "0  0  0  0  0    0   13  253  253  253  253  253  253  253  253  253  248  244  250  253  253  253  253  253   75  0  0  0  \n",
            "0  0  0  0  0    0    1   91  253  253  253  253  253  253  253  253  253  253  253  253  253  253  253   83    1  0  0  0  \n",
            "0  0  0  0  0    0    0    1    5   21  129  129   69  129  129  223  253  253  253  253  144   78    5    1    0  0  0  0  \n",
            "0  0  0  0  0    0    0    0    0    0    0    0    0    0    0    0    0    0    0    0    0    0    0    0    0  0  0  0  \n",
            "0  0  0  0  0    0    0    0    0    0    0    0    0    0    0    0    0    0    0    0    0    0    0    0    0  0  0  0  \n",
            "0  0  0  0  0    0    0    0    0    0    0    0    0    0    0    0    0    0    0    0    0    0    0    0    0  0  0  0  \n",
            "0  0  0  0  0    0    0    0    0    0    0    0    0    0    0    0    0    0    0    0    0    0    0    0    0  0  0  0  \n"
          ]
        }
      ],
      "source": [
        "# just a little function for pretty printing a matrix\n",
        "def matprint(mat, fmt=\"g\"):\n",
        "    col_maxes = [max([len((\"{:\"+fmt+\"}\").format(x)) for x in col]) for col in mat.T]\n",
        "    for x in mat:\n",
        "        for i, y in enumerate(x):\n",
        "            print((\"{:\"+str(col_maxes[i])+fmt+\"}\").format(y), end=\"  \")\n",
        "        print(\"\")\n",
        "\n",
        "# now print!        \n",
        "matprint(X_train[num])"
      ]
    },
    {
      "cell_type": "markdown",
      "metadata": {
        "id": "Ss7TbevRwm3h"
      },
      "source": [
        "Each pixel is an 8-bit integer from 0-255. 0 is full black, while 255 is full white. This what we call a single-channel pixel. It's called monochrome.\n",
        "\n",
        "*Fun-fact! Your computer screen has three channels for each pixel: red, green, blue. Each of these channels also likely takes an 8-bit integer. 3 channels -- 24 bits total -- 16,777,216 possible colors!*"
      ]
    },
    {
      "cell_type": "markdown",
      "metadata": {
        "id": "t0jSjqF1wm3i"
      },
      "source": [
        "## Formatting the input data layer\n",
        "\n",
        "Instead of a 28 x 28 matrix, we build our network to accept a 784-length vector.\n",
        "\n",
        "Each image needs to be then reshaped (or flattened) into a vector. We'll also normalize the inputs to be in the range [0-1] rather than [0-255]. Normalizing inputs is generally recommended, so that any additional dimensions (for other network architectures) are of the same scale."
      ]
    },
    {
      "cell_type": "markdown",
      "metadata": {
        "id": "qGAcbEcmwm3i"
      },
      "source": [
        "<img src='https://github.com/AviatorMoser/keras-mnist-tutorial/blob/master/flatten.png?raw=1' >"
      ]
    },
    {
      "cell_type": "code",
      "execution_count": 6,
      "metadata": {
        "colab": {
          "base_uri": "https://localhost:8080/"
        },
        "id": "U_SqrsD3wm3i",
        "outputId": "a46a3842-d71b-4797-c1a0-0e5bf59d230b"
      },
      "outputs": [
        {
          "output_type": "stream",
          "name": "stdout",
          "text": [
            "Training matrix shape (60000, 784)\n",
            "Testing matrix shape (10000, 784)\n"
          ]
        }
      ],
      "source": [
        "X_train = X_train.reshape(60000, 784) # reshape 60,000 28 x 28 matrices into 60,000 784-length vectors.\n",
        "X_test = X_test.reshape(10000, 784)   # reshape 10,000 28 x 28 matrices into 10,000 784-length vectors.\n",
        "\n",
        "X_train = X_train.astype('float32')   # change integers to 32-bit floating point numbers\n",
        "X_test = X_test.astype('float32')\n",
        "\n",
        "X_train /= 255                        # normalize each value for each pixel for the entire vector for each input\n",
        "X_test /= 255\n",
        "\n",
        "print(\"Training matrix shape\", X_train.shape)\n",
        "print(\"Testing matrix shape\", X_test.shape)"
      ]
    },
    {
      "cell_type": "markdown",
      "metadata": {
        "id": "WJNcd_a6wm3j"
      },
      "source": [
        "We then modify our classes (unique digits) to be in the one-hot format, i.e.\n",
        "\n",
        "```\n",
        "0 -> [1, 0, 0, 0, 0, 0, 0, 0, 0]\n",
        "1 -> [0, 1, 0, 0, 0, 0, 0, 0, 0]\n",
        "2 -> [0, 0, 1, 0, 0, 0, 0, 0, 0]\n",
        "etc.\n",
        "```\n",
        "\n",
        "If the final output of our network is very close to one of these classes, then it is most likely that class. For example, if the final output is:\n",
        "\n",
        "```\n",
        "[0, 0.94, 0, 0, 0, 0, 0.06, 0, 0]\n",
        "```\n",
        "then it is most probable that the image is that of the digit `1`."
      ]
    },
    {
      "cell_type": "code",
      "execution_count": 7,
      "metadata": {
        "collapsed": true,
        "id": "snYXOY0Twm3j"
      },
      "outputs": [],
      "source": [
        "nb_classes = 10 # number of unique digits\n",
        "\n",
        "Y_train = np_utils.to_categorical(y_train, nb_classes)\n",
        "Y_test = np_utils.to_categorical(y_test, nb_classes)"
      ]
    },
    {
      "cell_type": "markdown",
      "metadata": {
        "id": "va0M3KEKwm3j"
      },
      "source": [
        "# Building a 3-layer fully connected network (FCN)\n",
        "\n",
        "<img src=\"https://github.com/AviatorMoser/keras-mnist-tutorial/blob/master/figure.png?raw=1\" />"
      ]
    },
    {
      "cell_type": "code",
      "execution_count": 8,
      "metadata": {
        "collapsed": true,
        "id": "cbiDxgJdwm3j"
      },
      "outputs": [],
      "source": [
        "# The Sequential model is a linear stack of layers and is very common.\n",
        "\n",
        "model = Sequential()"
      ]
    },
    {
      "cell_type": "markdown",
      "metadata": {
        "id": "UigU0tLswm3k"
      },
      "source": [
        "## The first hidden layer"
      ]
    },
    {
      "cell_type": "code",
      "execution_count": 9,
      "metadata": {
        "collapsed": true,
        "id": "ugCDS9JMwm3k"
      },
      "outputs": [],
      "source": [
        "# The first hidden layer is a set of 512 nodes (artificial neurons).\n",
        "# Each node will receive an element from each input vector and apply some weight and bias to it.\n",
        "\n",
        "model.add(Dense(512, input_shape=(784,))) #(784,) is not a typo -- that represents a 784 length vector!"
      ]
    },
    {
      "cell_type": "code",
      "execution_count": 10,
      "metadata": {
        "collapsed": true,
        "id": "s1LZDHI8wm3k"
      },
      "outputs": [],
      "source": [
        "# An \"activation\" is a non-linear function applied to the output of the layer above.\n",
        "# It checks the new value of the node, and decides whether that artifical neuron has fired.\n",
        "# The Rectified Linear Unit (ReLU) converts all negative inputs to nodes in the next layer to be zero.\n",
        "# Those inputs are then not considered to be fired.\n",
        "# Positive values of a node are unchanged.\n",
        "\n",
        "model.add(Activation('relu'))"
      ]
    },
    {
      "cell_type": "markdown",
      "metadata": {
        "id": "oWBycQqYwm3k"
      },
      "source": [
        "$$f(x) = max (0,x)$$\n",
        "<img src = 'relu.jpg' >"
      ]
    },
    {
      "cell_type": "code",
      "execution_count": 11,
      "metadata": {
        "collapsed": true,
        "id": "4i6YErK5wm3k"
      },
      "outputs": [],
      "source": [
        "# Dropout zeroes a selection of random outputs (i.e., disables their activation)\n",
        "# Dropout helps protect the model from memorizing or \"overfitting\" the training data.\n",
        "model.add(Dropout(0.2))"
      ]
    },
    {
      "cell_type": "markdown",
      "metadata": {
        "id": "ze-U1dmWwm3k"
      },
      "source": [
        "## Adding the second hidden layer"
      ]
    },
    {
      "cell_type": "code",
      "execution_count": 12,
      "metadata": {
        "collapsed": true,
        "id": "kjQKLo_Vwm3l"
      },
      "outputs": [],
      "source": [
        "# The second hidden layer appears identical to our first layer.\n",
        "# However, instead of each of the 512-node receiving 784-inputs from the input image data,\n",
        "# they receive 512 inputs from the output of the first 512-node layer.\n",
        "\n",
        "model.add(Dense(512))\n",
        "model.add(Activation('relu'))\n",
        "model.add(Dropout(0.2))"
      ]
    },
    {
      "cell_type": "markdown",
      "metadata": {
        "id": "eJtv4RIqwm3l"
      },
      "source": [
        "## The Final Output Layer"
      ]
    },
    {
      "cell_type": "code",
      "execution_count": 13,
      "metadata": {
        "collapsed": true,
        "id": "jUgIzW81wm3l"
      },
      "outputs": [],
      "source": [
        "# The final layer of 10 neurons in fully-connected to the previous 512-node layer.\n",
        "# The final layer of a FCN should be equal to the number of desired classes (10 in this case).\n",
        "model.add(Dense(10))"
      ]
    },
    {
      "cell_type": "code",
      "execution_count": 14,
      "metadata": {
        "collapsed": true,
        "id": "WdUPdvLKwm3l"
      },
      "outputs": [],
      "source": [
        "# The \"softmax\" activation represents a probability distribution over K different possible outcomes.\n",
        "# Its values are all non-negative and sum to 1.\n",
        "\n",
        "model.add(Activation('softmax'))"
      ]
    },
    {
      "cell_type": "code",
      "execution_count": 15,
      "metadata": {
        "colab": {
          "base_uri": "https://localhost:8080/"
        },
        "id": "nCMKgIC8wm3l",
        "outputId": "bd4997a5-e499-418f-e857-bd2b3c8e3c2f"
      },
      "outputs": [
        {
          "output_type": "stream",
          "name": "stdout",
          "text": [
            "Model: \"sequential\"\n",
            "_________________________________________________________________\n",
            " Layer (type)                Output Shape              Param #   \n",
            "=================================================================\n",
            " dense (Dense)               (None, 512)               401920    \n",
            "                                                                 \n",
            " activation (Activation)     (None, 512)               0         \n",
            "                                                                 \n",
            " dropout (Dropout)           (None, 512)               0         \n",
            "                                                                 \n",
            " dense_1 (Dense)             (None, 512)               262656    \n",
            "                                                                 \n",
            " activation_1 (Activation)   (None, 512)               0         \n",
            "                                                                 \n",
            " dropout_1 (Dropout)         (None, 512)               0         \n",
            "                                                                 \n",
            " dense_2 (Dense)             (None, 10)                5130      \n",
            "                                                                 \n",
            " activation_2 (Activation)   (None, 10)                0         \n",
            "                                                                 \n",
            "=================================================================\n",
            "Total params: 669,706\n",
            "Trainable params: 669,706\n",
            "Non-trainable params: 0\n",
            "_________________________________________________________________\n"
          ]
        }
      ],
      "source": [
        "# Summarize the built model\n",
        "\n",
        "model.summary()"
      ]
    },
    {
      "cell_type": "markdown",
      "metadata": {
        "id": "JR2JolLAwm3l"
      },
      "source": [
        "## Compiling the model\n",
        "\n",
        "Keras is built on top of Theano and TensorFlow. Both packages allow you to define a *computation graph* in Python, which then compiles and runs efficiently on the CPU or GPU without the overhead of the Python interpreter.\n",
        "\n",
        "When compiing a model, Keras asks you to specify your **loss function** and your **optimizer**. The loss function we'll use here is called *categorical cross-entropy*, and is a loss function well-suited to comparing two probability distributions.\n",
        "\n",
        "Our predictions are probability distributions across the ten different digits (e.g. \"we're 80% confident this image is a 3, 10% sure it's an 8, 5% it's a 2, etc.\"), and the target is a probability distribution with 100% for the correct category, and 0 for everything else. The cross-entropy is a measure of how different your predicted distribution is from the target distribution. [More detail at Wikipedia](https://en.wikipedia.org/wiki/Cross_entropy)\n",
        "\n",
        "The optimizer helps determine how quickly the model learns through **gradient descent**. The rate at which descends a gradient is called the **learning rate**."
      ]
    },
    {
      "cell_type": "markdown",
      "metadata": {
        "id": "_3ngNahkwm3m"
      },
      "source": [
        "<img src = \"gradient_descent.png\" >"
      ]
    },
    {
      "cell_type": "markdown",
      "metadata": {
        "id": "uyvqt4Xqwm3m"
      },
      "source": [
        "<img src = \"learning_rate.png\" >"
      ]
    },
    {
      "cell_type": "markdown",
      "metadata": {
        "id": "aoHVG0Pywm3m"
      },
      "source": [
        "So are smaller learning rates better? Not quite! It's important for an optimizer not to get stuck in local minima while neglecting the global minimum of the loss function. Sometimes that means trying a larger learning rate to jump out of a local minimum."
      ]
    },
    {
      "cell_type": "markdown",
      "metadata": {
        "id": "AjxoKIclwm3m"
      },
      "source": [
        "<img src = 'complicated_loss_function.png' >"
      ]
    },
    {
      "cell_type": "code",
      "execution_count": 16,
      "metadata": {
        "collapsed": true,
        "id": "pZibsaZnwm3n"
      },
      "outputs": [],
      "source": [
        "# Let's use the Adam optimizer for learning\n",
        "model.compile(loss='categorical_crossentropy', optimizer='adam', metrics=['accuracy'])"
      ]
    },
    {
      "cell_type": "markdown",
      "metadata": {
        "id": "hsrUMoS9wm3n"
      },
      "source": [
        "## Train the model!\n",
        "This is the fun part! "
      ]
    },
    {
      "cell_type": "markdown",
      "metadata": {
        "id": "zQ10oelOwm3n"
      },
      "source": [
        "The batch size determines over how much data per step is used to compute the loss function, gradients, and back propagation. Large batch sizes allow the network to complete it's training faster; however, there are other factors beyond training speed to consider.\n",
        "\n",
        "Too large of a batch size smoothes the local minima of the loss function, causing the optimizer to settle in one because it thinks it found the global minimum.\n",
        "\n",
        "Too small of a batch size creates a very noisy loss function, and the optimizer may never find the global minimum.\n",
        "\n",
        "So a good batch size may take some trial and error to find!"
      ]
    },
    {
      "cell_type": "code",
      "execution_count": 17,
      "metadata": {
        "colab": {
          "base_uri": "https://localhost:8080/"
        },
        "id": "Ry2Kdyn-wm3n",
        "outputId": "cb4a2134-f1c9-45a5-afb0-21bae30b21a0"
      },
      "outputs": [
        {
          "output_type": "stream",
          "name": "stdout",
          "text": [
            "Epoch 1/5\n",
            "469/469 [==============================] - 9s 9ms/step - loss: 0.2541 - accuracy: 0.9235\n",
            "Epoch 2/5\n",
            "469/469 [==============================] - 4s 8ms/step - loss: 0.1038 - accuracy: 0.9677\n",
            "Epoch 3/5\n",
            "469/469 [==============================] - 3s 6ms/step - loss: 0.0710 - accuracy: 0.9777\n",
            "Epoch 4/5\n",
            "469/469 [==============================] - 3s 6ms/step - loss: 0.0589 - accuracy: 0.9812\n",
            "Epoch 5/5\n",
            "469/469 [==============================] - 3s 7ms/step - loss: 0.0454 - accuracy: 0.9855\n"
          ]
        },
        {
          "output_type": "execute_result",
          "data": {
            "text/plain": [
              "<keras.callbacks.History at 0x7f8dd009d710>"
            ]
          },
          "metadata": {},
          "execution_count": 17
        }
      ],
      "source": [
        "model.fit(X_train, Y_train,\n",
        "          batch_size=128, epochs=5,\n",
        "          verbose=1)"
      ]
    },
    {
      "cell_type": "markdown",
      "metadata": {
        "id": "sFjFPI5Swm3o"
      },
      "source": [
        "The two numbers, in order, represent the value of the loss function of the network on the training set, and the overall accuracy of the network on the training data. But how does it do on data it did not train on?"
      ]
    },
    {
      "cell_type": "markdown",
      "metadata": {
        "id": "i1bL4pW5wm3o"
      },
      "source": [
        "## Evaluate Model's Accuracy on Test Data"
      ]
    },
    {
      "cell_type": "code",
      "execution_count": 18,
      "metadata": {
        "colab": {
          "base_uri": "https://localhost:8080/"
        },
        "id": "2KBPBiF4wm3o",
        "outputId": "c86e3109-8293-4dd3-9c72-6cd74d595c2b"
      },
      "outputs": [
        {
          "output_type": "stream",
          "name": "stdout",
          "text": [
            "313/313 [==============================] - 1s 2ms/step - loss: 0.0665 - accuracy: 0.9791\n",
            "Test score: 0.06653068959712982\n",
            "Test accuracy: 0.9790999889373779\n"
          ]
        }
      ],
      "source": [
        "score = model.evaluate(X_test, Y_test)\n",
        "print('Test score:', score[0])\n",
        "print('Test accuracy:', score[1])"
      ]
    },
    {
      "cell_type": "markdown",
      "metadata": {
        "id": "5A7us4URwm3o"
      },
      "source": [
        "### Inspecting the output\n",
        "\n",
        "It's always a good idea to inspect the output and make sure everything looks sane. Here we'll look at some examples it gets right, and some examples it gets wrong."
      ]
    },
    {
      "cell_type": "code",
      "execution_count": 19,
      "metadata": {
        "collapsed": true,
        "id": "i7Boa_uwwm3o"
      },
      "outputs": [],
      "source": [
        "# The predict_classes function outputs the highest probability class\n",
        "# according to the trained classifier for each input example.\n",
        "# predicted_classes = model.predict(X_test)\n",
        "predict_x=model.predict(X_test) \n",
        "predicted_classes=np.argmax(predict_x,axis=1)\n",
        "\n",
        "# Check which items we got right / wrong\n",
        "correct_indices = np.nonzero(predicted_classes == y_test)[0]\n",
        "\n",
        "incorrect_indices = np.nonzero(predicted_classes != y_test)[0]"
      ]
    },
    {
      "cell_type": "code",
      "execution_count": 20,
      "metadata": {
        "colab": {
          "base_uri": "https://localhost:8080/",
          "height": 1000
        },
        "id": "56zXSrG0wm3o",
        "outputId": "b2cd1eb6-0f37-4439-a648-a9c04fa2b977"
      },
      "outputs": [
        {
          "output_type": "display_data",
          "data": {
            "text/plain": [
              "<Figure size 648x648 with 9 Axes>"
            ],
            "image/png": "[encoded data removed]"
          },
          "metadata": {
            "needs_background": "light"
          }
        },
        {
          "output_type": "display_data",
          "data": {
            "text/plain": [
              "<Figure size 648x648 with 9 Axes>"
            ],
            "image/png": "[encoded data removed]"
          },
          "metadata": {
            "needs_background": "light"
          }
        }
      ],
      "source": [
        "plt.figure()\n",
        "for i, correct in enumerate(correct_indices[:9]):\n",
        "    plt.subplot(3,3,i+1)\n",
        "    plt.imshow(X_test[correct].reshape(28,28), cmap='gray', interpolation='none')\n",
        "    plt.title(\"Predicted {}, Class {}\".format(predicted_classes[correct], y_test[correct]))\n",
        "    \n",
        "plt.tight_layout()\n",
        "    \n",
        "plt.figure()\n",
        "for i, incorrect in enumerate(incorrect_indices[:9]):\n",
        "    plt.subplot(3,3,i+1)\n",
        "    plt.imshow(X_test[incorrect].reshape(28,28), cmap='gray', interpolation='none')\n",
        "    plt.title(\"Predicted {}, Class {}\".format(predicted_classes[incorrect], y_test[incorrect]))\n",
        "    \n",
        "plt.tight_layout()"
      ]
    },
    {
      "cell_type": "markdown",
      "metadata": {
        "id": "Wf8Lg7guwm3o"
      },
      "source": [
        "# Trying experimenting with the batch size!\n",
        "\n",
        "#### How does increasing the batch size to 10,000 affect the training time and test accuracy?\n",
        "\n",
        "#### How about a batch size of 32?"
      ]
    },
    {
      "cell_type": "markdown",
      "metadata": {
        "id": "1PvpibpRwm3p"
      },
      "source": [
        "# Introducing Convolution! What is it?"
      ]
    },
    {
      "cell_type": "markdown",
      "metadata": {
        "id": "qPNg3_BTwm3p"
      },
      "source": [
        "Before, we built a network that accepts the normalized pixel values of each value and operates soley on those values. What if we could instead feed different features (e.g. **curvature, edges**) of each image into a network, and have the network learn which features are important for classifying an image?\n",
        "\n",
        "This possible through convolution! Convolution applies **kernels** (filters) that traverse through each image and generate **feature maps**."
      ]
    },
    {
      "cell_type": "markdown",
      "metadata": {
        "id": "sqtiFIBhwm3p"
      },
      "source": [
        "<img src = 'convolution.gif' >"
      ]
    },
    {
      "cell_type": "markdown",
      "metadata": {
        "id": "5JWwVWLswm3p"
      },
      "source": [
        "In the above example, the image is a 5 x 5 matrix and the kernel going over it is a 3 x 3 matrix. A dot product operation takes place between the image and the kernel and the convolved feature is generated. Each kernel in a CNN learns a different characteristic of an image.\n",
        "\n",
        "Kernels are often used in photoediting software to apply blurring, edge detection, sharpening, etc."
      ]
    },
    {
      "cell_type": "markdown",
      "metadata": {
        "id": "sMWELDltwm3p"
      },
      "source": [
        "<img src = 'kernels.png' >"
      ]
    },
    {
      "cell_type": "markdown",
      "metadata": {
        "id": "rYgKkExtwm3p"
      },
      "source": [
        "Kernels in deep learning networks are used in similar ways, i.e. highlighting some feature. Combined with a system called **max pooling**, the non-highlighted elements are discarded from each feature map, leaving only the features of interest, reducing the number of learned parameters, and decreasing the computational cost (e.g. system memory)."
      ]
    },
    {
      "cell_type": "markdown",
      "metadata": {
        "id": "Tbyvvomkwm3p"
      },
      "source": [
        "<img src = 'max_pooling.png' >"
      ]
    },
    {
      "cell_type": "markdown",
      "metadata": {
        "id": "UMPDnPO6wm3p"
      },
      "source": [
        "We can also take convolutions of convolutions -- we can stack as many convolutions as we want, as long as there are enough pixels to fit a kernel.\n",
        "\n",
        "*Warning: What you may find down there in those deep convolutions may not appear recognizable to you.*"
      ]
    },
    {
      "cell_type": "markdown",
      "metadata": {
        "id": "8Jipo2Urwm3q"
      },
      "source": [
        "<img src = 'go_deeper.jpg' >"
      ]
    },
    {
      "cell_type": "markdown",
      "metadata": {
        "id": "Fh40zzU6wm3q"
      },
      "source": [
        "## Building a \"Deep\" Convolutional Neural Network"
      ]
    },
    {
      "cell_type": "code",
      "execution_count": 21,
      "metadata": {
        "collapsed": true,
        "id": "-YbXzZYVwm3q"
      },
      "outputs": [],
      "source": [
        "# import some additional tools\n",
        "import tensorflow\n",
        "\n",
        "from tensorflow.keras.preprocessing.image import ImageDataGenerator\n",
        "from tensorflow.keras.layers import Conv2D, MaxPooling2D, ZeroPadding2D, GlobalAveragePooling2D, Flatten\n",
        "from tensorflow.keras.layers import BatchNormalization\n"
      ]
    },
    {
      "cell_type": "code",
      "execution_count": 22,
      "metadata": {
        "collapsed": true,
        "id": "AjatAKJWwm3q"
      },
      "outputs": [],
      "source": [
        "# Reload the MNIST data\n",
        "(X_train, y_train), (X_test, y_test) = mnist.load_data()"
      ]
    },
    {
      "cell_type": "code",
      "execution_count": 23,
      "metadata": {
        "colab": {
          "base_uri": "https://localhost:8080/"
        },
        "id": "k4xIA-v9wm3q",
        "outputId": "f2eca152-f517-4538-b99a-516fce767864"
      },
      "outputs": [
        {
          "output_type": "stream",
          "name": "stdout",
          "text": [
            "Training matrix shape (60000, 28, 28, 1)\n",
            "Testing matrix shape (10000, 28, 28, 1)\n"
          ]
        }
      ],
      "source": [
        "# Again, do some formatting\n",
        "# Except we do not flatten each image into a 784-length vector because we want to perform convolutions first\n",
        "\n",
        "X_train = X_train.reshape(60000, 28, 28, 1) #add an additional dimension to represent the single-channel\n",
        "X_test = X_test.reshape(10000, 28, 28, 1)\n",
        "\n",
        "X_train = X_train.astype('float32')         # change integers to 32-bit floating point numbers\n",
        "X_test = X_test.astype('float32')\n",
        "\n",
        "X_train /= 255                              # normalize each value for each pixel for the entire vector for each input\n",
        "X_test /= 255\n",
        "\n",
        "print(\"Training matrix shape\", X_train.shape)\n",
        "print(\"Testing matrix shape\", X_test.shape)"
      ]
    },
    {
      "cell_type": "code",
      "execution_count": 24,
      "metadata": {
        "collapsed": true,
        "id": "ZG4751JHwm3q"
      },
      "outputs": [],
      "source": [
        "# one-hot format classes\n",
        "\n",
        "nb_classes = 10 # number of unique digits\n",
        "\n",
        "Y_train = np_utils.to_categorical(y_train, nb_classes)\n",
        "Y_test = np_utils.to_categorical(y_test, nb_classes)"
      ]
    },
    {
      "cell_type": "code",
      "execution_count": 25,
      "metadata": {
        "collapsed": true,
        "id": "ivGvNJzlwm3q"
      },
      "outputs": [],
      "source": [
        "model = Sequential()                                 # Linear stacking of layers\n",
        "\n",
        "# Convolution Layer 1\n",
        "model.add(Conv2D(32, (3, 3), input_shape=(28,28,1))) # 32 different 3x3 kernels -- so 32 feature maps\n",
        "model.add(BatchNormalization(axis=-1))               # normalize each feature map before activation\n",
        "convLayer01 = Activation('relu')                     # activation\n",
        "model.add(convLayer01)\n",
        "\n",
        "# Convolution Layer 2\n",
        "model.add(Conv2D(32, (3, 3)))                        # 32 different 3x3 kernels -- so 32 feature maps\n",
        "model.add(BatchNormalization(axis=-1))               # normalize each feature map before activation\n",
        "model.add(Activation('relu'))                        # activation\n",
        "convLayer02 = MaxPooling2D(pool_size=(2,2))          # Pool the max values over a 2x2 kernel\n",
        "model.add(convLayer02)\n",
        "\n",
        "# Convolution Layer 3\n",
        "model.add(Conv2D(64,(3, 3)))                         # 64 different 3x3 kernels -- so 64 feature maps\n",
        "model.add(BatchNormalization(axis=-1))               # normalize each feature map before activation\n",
        "convLayer03 = Activation('relu')                     # activation\n",
        "model.add(convLayer03)\n",
        "\n",
        "# Convolution Layer 4\n",
        "model.add(Conv2D(64, (3, 3)))                        # 64 different 3x3 kernels -- so 64 feature maps\n",
        "model.add(BatchNormalization(axis=-1))               # normalize each feature map before activation\n",
        "model.add(Activation('relu'))                        # activation\n",
        "convLayer04 = MaxPooling2D(pool_size=(2,2))          # Pool the max values over a 2x2 kernel\n",
        "model.add(convLayer04)\n",
        "model.add(Flatten())                                 # Flatten final 4x4x64 output matrix into a 1024-length vector\n",
        "\n",
        "# Fully Connected Layer 5\n",
        "model.add(Dense(512))                                # 512 FCN nodes\n",
        "model.add(BatchNormalization())                      # normalization\n",
        "model.add(Activation('relu'))                        # activation\n",
        "\n",
        "# Fully Connected Layer 6                       \n",
        "model.add(Dropout(0.2))                              # 20% dropout of randomly selected nodes\n",
        "model.add(Dense(10))                                 # final 10 FCN nodes\n",
        "model.add(Activation('softmax'))                     # softmax activation"
      ]
    },
    {
      "cell_type": "code",
      "execution_count": 26,
      "metadata": {
        "colab": {
          "base_uri": "https://localhost:8080/"
        },
        "id": "yJsa08TNwm3r",
        "outputId": "f188cd31-3be3-449c-945e-2d05d4d9bee2"
      },
      "outputs": [
        {
          "output_type": "stream",
          "name": "stdout",
          "text": [
            "Model: \"sequential_1\"\n",
            "_________________________________________________________________\n",
            " Layer (type)                Output Shape              Param #   \n",
            "=================================================================\n",
            " conv2d (Conv2D)             (None, 26, 26, 32)        320       \n",
            "                                                                 \n",
            " batch_normalization (BatchN  (None, 26, 26, 32)       128       \n",
            " ormalization)                                                   \n",
            "                                                                 \n",
            " activation_3 (Activation)   (None, 26, 26, 32)        0         \n",
            "                                                                 \n",
            " conv2d_1 (Conv2D)           (None, 24, 24, 32)        9248      \n",
            "                                                                 \n",
            " batch_normalization_1 (Batc  (None, 24, 24, 32)       128       \n",
            " hNormalization)                                                 \n",
            "                                                                 \n",
            " activation_4 (Activation)   (None, 24, 24, 32)        0         \n",
            "                                                                 \n",
            " max_pooling2d (MaxPooling2D  (None, 12, 12, 32)       0         \n",
            " )                                                               \n",
            "                                                                 \n",
            " conv2d_2 (Conv2D)           (None, 10, 10, 64)        18496     \n",
            "                                                                 \n",
            " batch_normalization_2 (Batc  (None, 10, 10, 64)       256       \n",
            " hNormalization)                                                 \n",
            "                                                                 \n",
            " activation_5 (Activation)   (None, 10, 10, 64)        0         \n",
            "                                                                 \n",
            " conv2d_3 (Conv2D)           (None, 8, 8, 64)          36928     \n",
            "                                                                 \n",
            " batch_normalization_3 (Batc  (None, 8, 8, 64)         256       \n",
            " hNormalization)                                                 \n",
            "                                                                 \n",
            " activation_6 (Activation)   (None, 8, 8, 64)          0         \n",
            "                                                                 \n",
            " max_pooling2d_1 (MaxPooling  (None, 4, 4, 64)         0         \n",
            " 2D)                                                             \n",
            "                                                                 \n",
            " flatten (Flatten)           (None, 1024)              0         \n",
            "                                                                 \n",
            " dense_3 (Dense)             (None, 512)               524800    \n",
            "                                                                 \n",
            " batch_normalization_4 (Batc  (None, 512)              2048      \n",
            " hNormalization)                                                 \n",
            "                                                                 \n",
            " activation_7 (Activation)   (None, 512)               0         \n",
            "                                                                 \n",
            " dropout_2 (Dropout)         (None, 512)               0         \n",
            "                                                                 \n",
            " dense_4 (Dense)             (None, 10)                5130      \n",
            "                                                                 \n",
            " activation_8 (Activation)   (None, 10)                0         \n",
            "                                                                 \n",
            "=================================================================\n",
            "Total params: 597,738\n",
            "Trainable params: 596,330\n",
            "Non-trainable params: 1,408\n",
            "_________________________________________________________________\n"
          ]
        }
      ],
      "source": [
        "model.summary()"
      ]
    },
    {
      "cell_type": "code",
      "execution_count": 27,
      "metadata": {
        "collapsed": true,
        "id": "ANl1vNvawm3r"
      },
      "outputs": [],
      "source": [
        "# we'll use the same optimizer\n",
        "\n",
        "model.compile(loss='categorical_crossentropy', optimizer='adam', metrics=['accuracy'])"
      ]
    },
    {
      "cell_type": "code",
      "execution_count": 28,
      "metadata": {
        "collapsed": true,
        "id": "v3Sb5IzKwm3r"
      },
      "outputs": [],
      "source": [
        "# data augmentation prevents overfitting by slightly changing the data randomly\n",
        "# Keras has a great built-in feature to do automatic augmentation\n",
        "\n",
        "gen = ImageDataGenerator(rotation_range=8, width_shift_range=0.08, shear_range=0.3,\n",
        "                         height_shift_range=0.08, zoom_range=0.08)\n",
        "\n",
        "test_gen = ImageDataGenerator()"
      ]
    },
    {
      "cell_type": "code",
      "execution_count": 29,
      "metadata": {
        "collapsed": true,
        "id": "dGSsiuVGwm3r"
      },
      "outputs": [],
      "source": [
        "# We can then feed our augmented data in batches\n",
        "# Besides loss function considerations as before, this method actually results in significant memory savings\n",
        "# because we are actually LOADING the data into the network in batches before processing each batch\n",
        "\n",
        "# Before the data was all loaded into memory, but then processed in batches.\n",
        "\n",
        "train_generator = gen.flow(X_train, Y_train, batch_size=128)\n",
        "test_generator = test_gen.flow(X_test, Y_test, batch_size=128)"
      ]
    },
    {
      "cell_type": "code",
      "execution_count": 30,
      "metadata": {
        "colab": {
          "base_uri": "https://localhost:8080/"
        },
        "id": "w8zG1i9Ywm3r",
        "outputId": "63119eea-4e3c-4fde-8e4b-f7c05417b2d0"
      },
      "outputs": [
        {
          "output_type": "stream",
          "name": "stdout",
          "text": [
            "Epoch 1/5\n"
          ]
        },
        {
          "output_type": "stream",
          "name": "stderr",
          "text": [
            "/usr/local/lib/python3.7/dist-packages/ipykernel_launcher.py:7: UserWarning: `Model.fit_generator` is deprecated and will be removed in a future version. Please use `Model.fit`, which supports generators.\n",
            "  import sys\n"
          ]
        },
        {
          "output_type": "stream",
          "name": "stdout",
          "text": [
            "468/468 [==============================] - 31s 47ms/step - loss: 0.1259 - accuracy: 0.9601 - val_loss: 0.0579 - val_accuracy: 0.9845\n",
            "Epoch 2/5\n",
            "468/468 [==============================] - 23s 50ms/step - loss: 0.0502 - accuracy: 0.9846 - val_loss: 0.0411 - val_accuracy: 0.9870\n",
            "Epoch 3/5\n",
            "468/468 [==============================] - 22s 46ms/step - loss: 0.0414 - accuracy: 0.9869 - val_loss: 0.0236 - val_accuracy: 0.9909\n",
            "Epoch 4/5\n",
            "468/468 [==============================] - 22s 47ms/step - loss: 0.0350 - accuracy: 0.9892 - val_loss: 0.0254 - val_accuracy: 0.9918\n",
            "Epoch 5/5\n",
            "468/468 [==============================] - 21s 45ms/step - loss: 0.0305 - accuracy: 0.9902 - val_loss: 0.0175 - val_accuracy: 0.9933\n"
          ]
        },
        {
          "output_type": "execute_result",
          "data": {
            "text/plain": [
              "<keras.callbacks.History at 0x7f8d4e103ad0>"
            ]
          },
          "metadata": {},
          "execution_count": 30
        }
      ],
      "source": [
        "# We can now train our model which is fed data by our batch loader\n",
        "# Steps per epoch should always be total size of the set divided by the batch size\n",
        "\n",
        "# SIGNIFICANT MEMORY SAVINGS (important for larger, deeper networks)\n",
        "\n",
        "model.fit_generator(train_generator, steps_per_epoch=60000//128, epochs=5, verbose=1, \n",
        "                    validation_data=test_generator, validation_steps=10000//128)"
      ]
    },
    {
      "cell_type": "code",
      "execution_count": 31,
      "metadata": {
        "colab": {
          "base_uri": "https://localhost:8080/"
        },
        "id": "EJwpTxgtwm3r",
        "outputId": "7ccb26c3-13c4-4ea9-8a99-5e84a5224bb6"
      },
      "outputs": [
        {
          "output_type": "stream",
          "name": "stdout",
          "text": [
            "313/313 [==============================] - 3s 9ms/step - loss: 0.0175 - accuracy: 0.9933\n",
            "Test score: 0.0175014678388834\n",
            "Test accuracy: 0.9933000206947327\n"
          ]
        }
      ],
      "source": [
        "score = model.evaluate(X_test, Y_test)\n",
        "print('Test score:', score[0])\n",
        "print('Test accuracy:', score[1])"
      ]
    },
    {
      "cell_type": "markdown",
      "metadata": {
        "id": "4jlNwrlmwm3s"
      },
      "source": [
        "## Great results! \n",
        "\n",
        "But wouldn't it be nice if we could visualize those convolutions so that we can see what the model is seeing?"
      ]
    },
    {
      "cell_type": "code",
      "execution_count": 32,
      "metadata": {
        "collapsed": true,
        "id": "qJphOLmUwm3s"
      },
      "outputs": [],
      "source": [
        "from keras import backend as K\n",
        "\n",
        "# choose any image to want by specifying the index\n",
        "img = X_test[3]\n",
        "img = np.expand_dims(img, axis=0) # Keras requires the image to be in 4D, so we add an extra dimension to it.\n",
        "\n",
        "# Not important to understand how this function work -- It just plots a convolution layer\n",
        "\n",
        "def visualize(layer):\n",
        "    inputs = [K.learning_phase()] + model.inputs\n",
        "    \n",
        "    _convout1_f = K.function(inputs, [layer.output])\n",
        "    \n",
        "    def convout1_f(X):\n",
        "        # The [0] is to disable the training phase flag\n",
        "        return _convout1_f([0] + [X])\n",
        "\n",
        "    convolutions = convout1_f(img)\n",
        "    convolutions = np.squeeze(convolutions)\n",
        "\n",
        "    print ('Shape of conv:', convolutions.shape)\n",
        "    \n",
        "    m = convolutions.shape[2]\n",
        "    n = int(np.ceil(np.sqrt(m)))\n",
        "    \n",
        "    # Visualization of each filter of the layer\n",
        "    fig = plt.figure(figsize=(15,12))\n",
        "    for i in range(m):\n",
        "        ax = fig.add_subplot(n,n,i+1)\n",
        "        ax.imshow(convolutions[:,:,i], cmap='gray')\n"
      ]
    },
    {
      "cell_type": "markdown",
      "source": [
        "# Visualiser code"
      ],
      "metadata": {
        "id": "4Nesf_6A39-Q"
      }
    },
    {
      "cell_type": "code",
      "source": [
        "\n",
        "\n",
        "import tensorflow.keras.backend as K\n",
        "import numpy as np\n",
        "import os\n",
        "import matplotlib.pyplot as plt\n",
        "from tensorflow.keras.models import Model\n",
        "%matplotlib inline\n",
        "\n",
        "class ModelVisualizationClass(object):\n",
        "    def __init__(self, model,verbose=True, save_images=False, out_path=os.path.join('.','Activations')):\n",
        "        self.layer_names = None\n",
        "        self.activation_model = None\n",
        "        self.save_images = save_images\n",
        "        self.out_path = out_path\n",
        "        self.model = model\n",
        "        all_layers = model.layers[:]\n",
        "        self.all_layers = [layer for layer in all_layers if type(layer).__name__.lower().find('input') == -1] # and type(layer).__name__.lower().find('activation') != -1\n",
        "        if verbose:\n",
        "            self.print_all_layers()\n",
        "\n",
        "    def print_all_layers(self):\n",
        "        for layer in self.all_layers:\n",
        "            print(layer.name)\n",
        "\n",
        "    def define_desired_layers(self, desired_layer_names=None):\n",
        "        all_layers = self.all_layers\n",
        "        if desired_layer_names:\n",
        "            all_layers = [layer for layer in all_layers if layer.name in desired_layer_names]\n",
        "        self.layer_outputs = [layer.output for layer in all_layers]  # We already have the input.\n",
        "        self.layer_names = [layer.name for layer in all_layers]  #\n",
        "        self.activation_model = Model(inputs=self.model.input, outputs=self.layer_outputs)\n",
        "\n",
        "    def predict_on_tensor(self, img_tensor):\n",
        "        if self.activation_model is None:\n",
        "            self.define_desired_layers()\n",
        "        self.activations = self.activation_model.predict(img_tensor)\n",
        "        if type(self.activations) != list:\n",
        "            self.activations = [self.activations]\n",
        "\n",
        "    def define_output(self,out_path):\n",
        "        self.out_path = out_path\n",
        "        if not os.path.exists(self.out_path):\n",
        "            os.makedirs(self.out_path)\n",
        "\n",
        "    def plot_activations(self, ground_truth=None):\n",
        "        assert self.activations is not None, 'Need to run predict_on_tensor first!'\n",
        "        if not self.out_path and self.save_images:\n",
        "            self.define_output(os.path.join('.','activation_outputs'))\n",
        "        elif self.save_images:\n",
        "            self.define_output(self.out_path)\n",
        "        image_index = 0\n",
        "        if self.layer_names is None:\n",
        "            self.define_desired_layers()\n",
        "        print(self.layer_names)\n",
        "        if ground_truth is not None:\n",
        "            ground_truth = np.argmax(np.squeeze(ground_truth),axis=-1)\n",
        "        for layer_name, layer_activation in zip(self.layer_names, self.activations):\n",
        "            layer_activation = np.squeeze(layer_activation)\n",
        "            print(layer_name)\n",
        "            print(self.layer_names.index(layer_name) / len(self.layer_names) * 100)\n",
        "            if len(layer_activation.shape) == 4:\n",
        "                middle_index = layer_activation.shape[0] // 2\n",
        "                if ground_truth is not None:\n",
        "                    index = np.where(ground_truth != 0)\n",
        "                    if index:\n",
        "                        indexes = np.unique(index[0])\n",
        "                        middle_index = indexes[len(indexes)//2]\n",
        "                layer_activation = layer_activation[middle_index,...]\n",
        "            elif len(layer_activation.shape) == 5:\n",
        "                layer_activation = layer_activation[0,...,0,:]\n",
        "            display_grid = make_grid_from_map(layer_activation)\n",
        "            scale = 0.01\n",
        "            plt.figure(figsize=(display_grid.shape[1] * scale, scale * display_grid.shape[0]))\n",
        "            plt.imshow(display_grid, aspect='auto', cmap='gray')\n",
        "            plt.title(layer_name)\n",
        "            plt.grid(False)\n",
        "            if self.save_images:\n",
        "                plt.savefig(os.path.join(self.out_path, '{}_{}.png'.format(image_index, layer_name.replace(\"/\", '.'))))\n",
        "                plt.close()\n",
        "            image_index += 1\n",
        "\n",
        "    def plot_activation(self, layer_name):\n",
        "        if not self.out_path and self.save_images:\n",
        "            self.define_output(os.path.join('.','activation_outputs'))\n",
        "        elif self.save_images:\n",
        "            self.define_output(self.out_path)\n",
        "        image_index = 0\n",
        "        print(self.layer_names)\n",
        "        index = self.layer_names.index(layer_name)\n",
        "        layer_activation = np.squeeze(self.activations[index])\n",
        "        activation_shape = layer_activation.shape\n",
        "        print(layer_name)\n",
        "        if len(activation_shape) == 4:\n",
        "            layer_activation = layer_activation[activation_shape[0]//2]\n",
        "        elif len(activation_shape) == 5:\n",
        "            layer_activation = layer_activation[0,...,0,:]\n",
        "        display_grid = make_grid_from_map(layer_activation)\n",
        "        scale = 0.05\n",
        "        plt.figure(figsize=(display_grid.shape[1] * scale, scale * display_grid.shape[0]))\n",
        "        plt.title(layer_name)\n",
        "        plt.grid(False)\n",
        "        plt.imshow(display_grid, aspect='auto', cmap='gray')\n",
        "        if self.save_images:\n",
        "            plt.savefig(os.path.join(self.out_path, str(image_index) + '_' + layer_name + '.png'))\n",
        "            plt.close()\n",
        "        image_index += 1\n",
        "\n",
        "    def make_grid_from_kernel(self, weights, image_index=0, layer_name=''):\n",
        "        n_features = weights.shape[-1]\n",
        "        split = 2\n",
        "        while n_features / split % 2 == 0 and n_features / split >= split:\n",
        "            split *= 2\n",
        "        split /= 2\n",
        "        images_per_row = int(n_features // split)\n",
        "        n_cols = n_features // images_per_row\n",
        "        for i in range(1, n_features + 1):\n",
        "            plt.subplot(images_per_row, n_cols, i)\n",
        "            weight = weights[..., i - 1]\n",
        "            # weight = (weight-np.mean(weight))/np.std(weight)\n",
        "            plt.imshow(weight, interpolation=\"nearest\", cmap=\"gray\")\n",
        "        plt.show()\n",
        "        plt.grid(False)\n",
        "        if self.save_images:\n",
        "            plt.savefig(os.path.join(self.out_path, str(image_index) + '_' + layer_name + '.png'))\n",
        "            plt.close()\n",
        "        return None\n",
        "\n",
        "    def plot_kernels(self):\n",
        "        if not self.out_path and self.save_images:\n",
        "            self.define_output(os.path.join('.','kernel_outputs'))\n",
        "        image_index = 0\n",
        "        for layer_name in self.layer_names:\n",
        "            print(layer_name)\n",
        "            layer = [i for i in self.activation_model.layers if i.name == layer_name][0]\n",
        "            kernels = layer.get_weights()[0]\n",
        "            if len(kernels.shape) == 4:\n",
        "                kernels = kernels[...,0,:]\n",
        "            elif len(kernels.shape) == 5:\n",
        "                kernels = kernels[0,...,0,:]\n",
        "            self.make_grid_from_kernel(kernels, image_index=image_index,layer_name=layer_name)\n",
        "            image_index += 1\n",
        "\n",
        "\n",
        "def visualize_activations(model, img_tensor, out_path = os.path.join('.','activation_outputs')):\n",
        "    if not os.path.exists(out_path):\n",
        "        os.makedirs(out_path)\n",
        "    all_layers = model.layers[1:]\n",
        "    all_layers = [layer for layer in all_layers if layer.name.find('mask') == -1 and layer.name.lower().find('input') == -1 and layer.name.lower().find('batch_normalization') == -1]\n",
        "    layer_outputs = [layer.output for layer in all_layers]  # We already have the input.\n",
        "    layer_names = [layer.name for layer in all_layers]\n",
        "    activation_model = Model(inputs=model.input, outputs=layer_outputs)\n",
        "    activations = activation_model.predict(img_tensor)\n",
        "    image_index = 0\n",
        "    for layer_name, layer_activation in zip(layer_names, activations):\n",
        "        print(layer_name)\n",
        "        print(layer_names.index(layer_name)/len(layer_names) * 100)\n",
        "        layer_activation = np.squeeze(layer_activation)\n",
        "        display_grid = make_grid_from_map(layer_activation)\n",
        "        scale = 0.05\n",
        "        plt.figure(figsize=(display_grid.shape[1] * scale, scale * display_grid.shape[0]))\n",
        "        plt.title(layer_name)\n",
        "        plt.grid(False)\n",
        "        plt.imshow(display_grid, aspect='auto', cmap='gray')\n",
        "        plt.savefig(os.path.join(out_path,str(image_index) + '_' + layer_name + '.png'))\n",
        "        plt.close()\n",
        "        image_index += 1\n",
        "\n",
        "\n",
        "def make_grid_from_map(layer_activation):\n",
        "    n_features = layer_activation.shape[-1]\n",
        "    split = 2\n",
        "    while n_features / split % 2 == 0 and n_features / split >= split:\n",
        "        split *= 2\n",
        "    split /= 2\n",
        "    images_per_row = int(n_features // split)\n",
        "    if len(layer_activation.shape) == 4:\n",
        "        rows_size = layer_activation.shape[1]\n",
        "        cols_size = layer_activation.shape[2]\n",
        "    else:\n",
        "        rows_size = layer_activation.shape[0]\n",
        "        cols_size = layer_activation.shape[1]\n",
        "    n_cols = n_features // images_per_row\n",
        "    display_grid = np.zeros((rows_size * images_per_row, n_cols * cols_size))\n",
        "    for col in range(n_cols):\n",
        "        for row in range(images_per_row):\n",
        "            if len(layer_activation.shape) == 4:\n",
        "                channel_image = layer_activation[layer_activation.shape[0] // 2, :, :, col * images_per_row + row]\n",
        "            else:\n",
        "                channel_image = layer_activation[:, :, col * images_per_row + row]\n",
        "            channel_image -= channel_image.mean()\n",
        "            channel_image /= channel_image.std()\n",
        "            channel_image *= 64\n",
        "            channel_image += 128\n",
        "            channel_image = np.clip(channel_image, 0, 255).astype('uint8')\n",
        "            display_grid[row * rows_size: (row + 1) * rows_size,\n",
        "            col * cols_size: (col + 1) * cols_size] = channel_image\n",
        "    return display_grid\n",
        "\n",
        "\n",
        "def decay_regularization(img, grads, decay = 0.9):\n",
        "    return decay * img\n",
        "\n",
        "\n",
        "def clip_weak_pixel_regularization(img, grads, percentile = 1):\n",
        "    clipped = img\n",
        "    threshold = np.percentile(np.abs(img), percentile)\n",
        "    clipped[np.where(np.abs(img) < threshold)] = 0\n",
        "    return clipped\n",
        "\n",
        "\n",
        "def gradient_ascent_iteration(loss_function, img):\n",
        "    loss_value, grads_value = loss_function([img])\n",
        "    gradient_ascent_step = img + grads_value * 0.9\n",
        "\n",
        "    # Convert to row major format for using opencv routines\n",
        "    grads_row_major = np.transpose(grads_value[0, :], (1, 2, 0))\n",
        "    img_row_major = np.transpose(gradient_ascent_step[0, :], (1, 2, 0))\n",
        "\n",
        "    # List of regularization functions to use\n",
        "    regularizations = [decay_regularization, clip_weak_pixel_regularization]\n",
        "\n",
        "    # The reguarlization weights\n",
        "    weights = np.float32([3, 3, 1])\n",
        "    weights /= np.sum(weights)\n",
        "\n",
        "    images = [reg_func(img_row_major, grads_row_major) for reg_func in regularizations]\n",
        "    weighted_images = np.float32([w * image for w, image in zip(weights, images)])\n",
        "    img = np.sum(weighted_images, axis = 0)\n",
        "\n",
        "    # Convert image back to 1 x 3 x height x width\n",
        "    img = np.float32([np.transpose(img, (2, 0, 1))])\n",
        "\n",
        "    return img\n",
        "\n",
        "\n",
        "def deprocess_image(x):\n",
        "    x -= x.mean()\n",
        "    x /= (x.std() + 1e-5)\n",
        "    x *= 0.1\n",
        "    x += 0.5\n",
        "    x = np.clip(x, 0, 1)\n",
        "    x *= 255\n",
        "    x = np.clip(x, 0, 255).astype('uint8')\n",
        "    return x\n",
        "\n",
        "\n",
        "def generate_pattern(model, layer_name, filter_index, size=150):\n",
        "    layer_output = model.get_layer(layer_name).output\n",
        "    loss = K.mean(layer_output[..., filter_index])\n",
        "    grads = K.gradients(loss, model.input)[0]\n",
        "    grads /= (K.sqrt(K.mean(K.square(grads))) + 1e-5)\n",
        "    iterate = K.function([model.input], [loss, grads])\n",
        "    img = np.random.random((1, size, size, 3)) * 20 + 128.\n",
        "    for i in range(30):\n",
        "        img = gradient_ascent_iteration(iterate, img)\n",
        "    return deprocess_image(img[0])\n",
        "\n",
        "\n",
        "def visualize_filters(model):\n",
        "    layer_name = 'block1_conv1'\n",
        "    size = 64\n",
        "    margin = 5\n",
        "    results = np.zeros((8 * size + 7 * margin, 8 * size + 7 * margin, 3) ,dtype='uint8')\n",
        "    for i in range(8):\n",
        "        print(i)\n",
        "        for j in range(8):\n",
        "            filter_img = generate_pattern(model, layer_name, i + (j * 8), size=size)\n",
        "            horizontal_start = i * size + i * margin\n",
        "            horizontal_end = horizontal_start + size\n",
        "            vertical_start = j * size + j * margin\n",
        "            vertical_end = vertical_start + size\n",
        "            results[horizontal_start: horizontal_end, vertical_start: vertical_end, :] = filter_img\n",
        "    plt.figure(figsize=(20, 20))\n",
        "    plt.imshow(results)\n"
      ],
      "metadata": {
        "id": "Ix9aQRXI2EoK"
      },
      "execution_count": 43,
      "outputs": []
    },
    {
      "cell_type": "code",
      "source": [],
      "metadata": {
        "id": "X0DAmjZA2FCM"
      },
      "execution_count": null,
      "outputs": []
    },
    {
      "cell_type": "markdown",
      "source": [
        "# Sample Visualisation"
      ],
      "metadata": {
        "id": "hc7ehBSI4FP0"
      }
    },
    {
      "cell_type": "code",
      "execution_count": 33,
      "metadata": {
        "colab": {
          "base_uri": "https://localhost:8080/",
          "height": 554
        },
        "id": "YKflpsaVwm3s",
        "outputId": "73435069-42aa-4265-92f4-cc7e1aceb33a"
      },
      "outputs": [
        {
          "output_type": "execute_result",
          "data": {
            "text/plain": [
              "<matplotlib.image.AxesImage at 0x7f8dd0014550>"
            ]
          },
          "metadata": {},
          "execution_count": 33
        },
        {
          "output_type": "display_data",
          "data": {
            "text/plain": [
              "<Figure size 648x648 with 1 Axes>"
            ],
            "image/png": "[encoded data removed]"
          },
          "metadata": {
            "needs_background": "light"
          }
        }
      ],
      "source": [
        "plt.figure()\n",
        "plt.imshow(X_test[3].reshape(28,28), cmap='gray', interpolation='none')"
      ]
    },
    {
      "cell_type": "code",
      "source": [],
      "metadata": {
        "id": "a1OngiiR1yVk"
      },
      "execution_count": 46,
      "outputs": []
    },
    {
      "cell_type": "code",
      "source": [
        "\n",
        "visualizer = ModelVisualizationClass(model=model, save_images=True,\n",
        "                                     out_path=r'some_path_to_image_folder')\n",
        "x = img\n",
        "visualizer.print_all_layers()  # Prints the names of all your model layers\n",
        "visualizer.predict_on_tensor(x)  # Predicts on an input image, needed for writing activation images\n",
        "visualizer.plot_activation('conv2d_1')  # Opens a matplotlib figure and shows activations in grid"
      ],
      "metadata": {
        "colab": {
          "base_uri": "https://localhost:8080/"
        },
        "id": "BzhvI_se1tVu",
        "outputId": "2a1afe2e-6731-4875-b770-4a5c71afd3c3"
      },
      "execution_count": 45,
      "outputs": [
        {
          "output_type": "stream",
          "name": "stdout",
          "text": [
            "conv2d\n",
            "batch_normalization\n",
            "activation_3\n",
            "conv2d_1\n",
            "batch_normalization_1\n",
            "activation_4\n",
            "max_pooling2d\n",
            "conv2d_2\n",
            "batch_normalization_2\n",
            "activation_5\n",
            "conv2d_3\n",
            "batch_normalization_3\n",
            "activation_6\n",
            "max_pooling2d_1\n",
            "flatten\n",
            "dense_3\n",
            "batch_normalization_4\n",
            "activation_7\n",
            "dropout_2\n",
            "dense_4\n",
            "activation_8\n",
            "conv2d\n",
            "batch_normalization\n",
            "activation_3\n",
            "conv2d_1\n",
            "batch_normalization_1\n",
            "activation_4\n",
            "max_pooling2d\n",
            "conv2d_2\n",
            "batch_normalization_2\n",
            "activation_5\n",
            "conv2d_3\n",
            "batch_normalization_3\n",
            "activation_6\n",
            "max_pooling2d_1\n",
            "flatten\n",
            "dense_3\n",
            "batch_normalization_4\n",
            "activation_7\n",
            "dropout_2\n",
            "dense_4\n",
            "activation_8\n",
            "['conv2d', 'batch_normalization', 'activation_3', 'conv2d_1', 'batch_normalization_1', 'activation_4', 'max_pooling2d', 'conv2d_2', 'batch_normalization_2', 'activation_5', 'conv2d_3', 'batch_normalization_3', 'activation_6', 'max_pooling2d_1', 'flatten', 'dense_3', 'batch_normalization_4', 'activation_7', 'dropout_2', 'dense_4', 'activation_8']\n",
            "conv2d_1\n"
          ]
        }
      ]
    },
    {
      "cell_type": "code",
      "source": [
        "\n",
        "visualizer.plot_activation('conv2d')  # Opens a matplotlib figure and shows activations in grid"
      ],
      "metadata": {
        "colab": {
          "base_uri": "https://localhost:8080/"
        },
        "id": "ZaZKfYjN2pqP",
        "outputId": "e5f2539d-071e-454d-baf9-44f8e833e704"
      },
      "execution_count": 46,
      "outputs": [
        {
          "output_type": "stream",
          "name": "stdout",
          "text": [
            "['conv2d', 'batch_normalization', 'activation_3', 'conv2d_1', 'batch_normalization_1', 'activation_4', 'max_pooling2d', 'conv2d_2', 'batch_normalization_2', 'activation_5', 'conv2d_3', 'batch_normalization_3', 'activation_6', 'max_pooling2d_1', 'flatten', 'dense_3', 'batch_normalization_4', 'activation_7', 'dropout_2', 'dense_4', 'activation_8']\n",
            "conv2d\n"
          ]
        }
      ]
    },
    {
      "cell_type": "code",
      "source": [],
      "metadata": {
        "id": "HvamBAtg3lDb"
      },
      "execution_count": null,
      "outputs": []
    },
    {
      "cell_type": "code",
      "execution_count": 46,
      "metadata": {
        "id": "SXFGPxWiwm3s"
      },
      "outputs": [],
      "source": []
    },
    {
      "cell_type": "code",
      "execution_count": 46,
      "metadata": {
        "id": "2dtl5vjJwm3s"
      },
      "outputs": [],
      "source": []
    },
    {
      "cell_type": "code",
      "execution_count": 46,
      "metadata": {
        "id": "9m_lUnnzwm3s"
      },
      "outputs": [],
      "source": []
    },
    {
      "cell_type": "code",
      "execution_count": 46,
      "metadata": {
        "id": "LiSVzYLywm3s"
      },
      "outputs": [],
      "source": []
    }
  ],
  "metadata": {
    "kernelspec": {
      "display_name": "Tensorflow (GPU)",
      "language": "python",
      "name": "py3.6-tfgpu"
    },
    "language_info": {
      "codemirror_mode": {
        "name": "ipython",
        "version": 3
      },
      "file_extension": ".py",
      "mimetype": "text/x-python",
      "name": "python",
      "nbconvert_exporter": "python",
      "pygments_lexer": "ipython3",
      "version": "3.6.6"
    },
    "colab": {
      "provenance": []
    },
    "accelerator": "GPU",
    "gpuClass": "standard"
  },
  "nbformat": 4,
  "nbformat_minor": 0
}
